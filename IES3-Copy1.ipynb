{
 "cells": [
  {
   "cell_type": "markdown",
   "id": "7010f95f",
   "metadata": {},
   "source": [
    "# Question 1"
   ]
  },
  {
   "cell_type": "markdown",
   "id": "dc932dfa",
   "metadata": {},
   "source": [
    "Step 1: Import the necessary libraries"
   ]
  },
  {
   "cell_type": "code",
   "execution_count": 1,
   "id": "0c673349",
   "metadata": {},
   "outputs": [],
   "source": [
    "import pandas as pd\n"
   ]
  },
  {
   "cell_type": "markdown",
   "id": "0d1dca1b",
   "metadata": {},
   "source": [
    "Step 2: Import the dataset from this address."
   ]
  },
  {
   "cell_type": "code",
   "execution_count": 4,
   "id": "87627f14",
   "metadata": {},
   "outputs": [],
   "source": [
    "url = 'https://raw.githubusercontent.com/justmarkham/DAT8/master/data/u.user'\n",
    "users = pd.read_csv(url, sep='|')\n"
   ]
  },
  {
   "cell_type": "markdown",
   "id": "0f85646a",
   "metadata": {},
   "source": [
    "Step 3: Assign it to a variable called users"
   ]
  },
  {
   "cell_type": "code",
   "execution_count": 3,
   "id": "5ba2c685",
   "metadata": {},
   "outputs": [],
   "source": [
    "users = pd.read_csv(url, sep='|')\n"
   ]
  },
  {
   "cell_type": "markdown",
   "id": "49d32404",
   "metadata": {},
   "source": [
    "Step 4: Discover what is the mean age per occupation"
   ]
  },
  {
   "cell_type": "code",
   "execution_count": 5,
   "id": "7fa4e0da",
   "metadata": {},
   "outputs": [
    {
     "name": "stdout",
     "output_type": "stream",
     "text": [
      "occupation\n",
      "administrator    38.746835\n",
      "artist           31.392857\n",
      "doctor           43.571429\n",
      "educator         42.010526\n",
      "engineer         36.388060\n",
      "entertainment    29.222222\n",
      "executive        38.718750\n",
      "healthcare       41.562500\n",
      "homemaker        32.571429\n",
      "lawyer           36.750000\n",
      "librarian        40.000000\n",
      "marketing        37.615385\n",
      "none             26.555556\n",
      "other            34.523810\n",
      "programmer       33.121212\n",
      "retired          63.071429\n",
      "salesman         35.666667\n",
      "scientist        35.548387\n",
      "student          22.081633\n",
      "technician       33.148148\n",
      "writer           36.311111\n",
      "Name: age, dtype: float64\n"
     ]
    }
   ],
   "source": [
    "mean_age = users.groupby('occupation')['age'].mean()\n",
    "print(mean_age)\n"
   ]
  },
  {
   "cell_type": "markdown",
   "id": "7a9442d8",
   "metadata": {},
   "source": [
    "Step 5: Discover the Male ratio per occupation and sort it from the most to the least"
   ]
  },
  {
   "cell_type": "code",
   "execution_count": 6,
   "id": "965b1e92",
   "metadata": {},
   "outputs": [
    {
     "name": "stdout",
     "output_type": "stream",
     "text": [
      "occupation\n",
      "doctor           1.000000\n",
      "engineer         0.970149\n",
      "technician       0.962963\n",
      "retired          0.928571\n",
      "programmer       0.909091\n",
      "executive        0.906250\n",
      "scientist        0.903226\n",
      "entertainment    0.888889\n",
      "lawyer           0.833333\n",
      "salesman         0.750000\n",
      "educator         0.726316\n",
      "student          0.693878\n",
      "other            0.657143\n",
      "marketing        0.615385\n",
      "writer           0.577778\n",
      "none             0.555556\n",
      "administrator    0.544304\n",
      "artist           0.535714\n",
      "librarian        0.431373\n",
      "healthcare       0.312500\n",
      "homemaker        0.142857\n",
      "Name: male_ratio, dtype: float64\n"
     ]
    }
   ],
   "source": [
    "# create a function to get the male ratio\n",
    "def male_ratio(x):\n",
    "    if x['gender'] == 'M':\n",
    "        return 1\n",
    "    else:\n",
    "        return 0\n",
    "\n",
    "# apply the function to the dataframe to create a new column\n",
    "users['male_ratio'] = users.apply(male_ratio, axis=1)\n",
    "\n",
    "# calculate the male ratio per occupation\n",
    "male_ratio = users.groupby('occupation')['male_ratio'].mean()\n",
    "\n",
    "# sort the male ratio in descending order\n",
    "male_ratio = male_ratio.sort_values(ascending=False)\n",
    "\n",
    "print(male_ratio)\n"
   ]
  },
  {
   "cell_type": "markdown",
   "id": "2d4f8798",
   "metadata": {},
   "source": [
    "Step 6: For each occupation, calculate the minimum and maximum ages"
   ]
  },
  {
   "cell_type": "code",
   "execution_count": 7,
   "id": "d11e53c3",
   "metadata": {},
   "outputs": [
    {
     "name": "stdout",
     "output_type": "stream",
     "text": [
      "               min  max\n",
      "occupation             \n",
      "administrator   21   70\n",
      "artist          19   48\n",
      "doctor          28   64\n",
      "educator        23   63\n",
      "engineer        22   70\n",
      "entertainment   15   50\n",
      "executive       22   69\n",
      "healthcare      22   62\n",
      "homemaker       20   50\n",
      "lawyer          21   53\n",
      "librarian       23   69\n",
      "marketing       24   55\n",
      "none            11   55\n",
      "other           13   64\n",
      "programmer      20   63\n",
      "retired         51   73\n",
      "salesman        18   66\n",
      "scientist       23   55\n",
      "student          7   42\n",
      "technician      21   55\n",
      "writer          18   60\n"
     ]
    }
   ],
   "source": [
    "# calculate the minimum and maximum ages per occupation\n",
    "age_range = users.groupby('occupation')['age'].agg(['min', 'max'])\n",
    "\n",
    "print(age_range)\n"
   ]
  },
  {
   "cell_type": "markdown",
   "id": "20f5c371",
   "metadata": {},
   "source": [
    "Step 7: For each combination of occupation and sex, calculate the mean age"
   ]
  },
  {
   "cell_type": "code",
   "execution_count": 8,
   "id": "1de75682",
   "metadata": {},
   "outputs": [
    {
     "name": "stdout",
     "output_type": "stream",
     "text": [
      "occupation     gender\n",
      "administrator  F         40.638889\n",
      "               M         37.162791\n",
      "artist         F         30.307692\n",
      "               M         32.333333\n",
      "doctor         M         43.571429\n",
      "educator       F         39.115385\n",
      "               M         43.101449\n",
      "engineer       F         29.500000\n",
      "               M         36.600000\n",
      "entertainment  F         31.000000\n",
      "               M         29.000000\n",
      "executive      F         44.000000\n",
      "               M         38.172414\n",
      "healthcare     F         39.818182\n",
      "               M         45.400000\n",
      "homemaker      F         34.166667\n",
      "               M         23.000000\n",
      "lawyer         F         39.500000\n",
      "               M         36.200000\n",
      "librarian      F         40.000000\n",
      "               M         40.000000\n",
      "marketing      F         37.200000\n",
      "               M         37.875000\n",
      "none           F         36.500000\n",
      "               M         18.600000\n",
      "other          F         35.472222\n",
      "               M         34.028986\n",
      "programmer     F         32.166667\n",
      "               M         33.216667\n",
      "retired        F         70.000000\n",
      "               M         62.538462\n",
      "salesman       F         27.000000\n",
      "               M         38.555556\n",
      "scientist      F         28.333333\n",
      "               M         36.321429\n",
      "student        F         20.750000\n",
      "               M         22.669118\n",
      "technician     F         38.000000\n",
      "               M         32.961538\n",
      "writer         F         37.631579\n",
      "               M         35.346154\n",
      "Name: age, dtype: float64\n"
     ]
    }
   ],
   "source": [
    "mean_age_sex = users.groupby(['occupation', 'gender'])['age'].mean()\n",
    "\n",
    "print(mean_age_sex)\n"
   ]
  },
  {
   "cell_type": "markdown",
   "id": "b948f1ec",
   "metadata": {},
   "source": [
    "Step 8: For each occupation present the percentage of women and men"
   ]
  },
  {
   "cell_type": "code",
   "execution_count": 9,
   "id": "17a5f41e",
   "metadata": {},
   "outputs": [
    {
     "name": "stdout",
     "output_type": "stream",
     "text": [
      "               male_percentage  female_percentage\n",
      "occupation                                       \n",
      "administrator            100.0                0.0\n",
      "artist                   100.0                0.0\n",
      "doctor                   100.0                0.0\n",
      "educator                 100.0                0.0\n",
      "engineer                 100.0                0.0\n",
      "entertainment            100.0                0.0\n",
      "executive                100.0                0.0\n",
      "healthcare               100.0                0.0\n",
      "homemaker                100.0                0.0\n",
      "lawyer                   100.0                0.0\n",
      "librarian                100.0                0.0\n",
      "marketing                100.0                0.0\n",
      "none                     100.0                0.0\n",
      "other                    100.0                0.0\n",
      "programmer               100.0                0.0\n",
      "retired                  100.0                0.0\n",
      "salesman                 100.0                0.0\n",
      "scientist                100.0                0.0\n",
      "student                  100.0                0.0\n",
      "technician               100.0                0.0\n",
      "writer                   100.0                0.0\n"
     ]
    }
   ],
   "source": [
    "# create a function to get the gender percentage\n",
    "def gender_percentage(x):\n",
    "    if x['gender'] == 'M':\n",
    "        return x['male_ratio']*100\n",
    "    else:\n",
    "        return (1-x['male_ratio'])*100\n",
    "\n",
    "# apply the function to the dataframe to create two new columns\n",
    "users['male_percentage'] = users.apply(gender_percentage, axis=1)\n",
    "users['female_percentage'] = 100 - users['male_percentage']\n",
    "\n",
    "# calculate the gender percentage per occupation\n",
    "gender_percentage = users.groupby('occupation')[['male_percentage', 'female_percentage']].mean()\n",
    "\n",
    "print(gender_percentage)\n"
   ]
  },
  {
   "cell_type": "markdown",
   "id": "bdcc877b",
   "metadata": {},
   "source": [
    "# Question 2"
   ]
  },
  {
   "cell_type": "code",
   "execution_count": 70,
   "id": "2c90bb44",
   "metadata": {},
   "outputs": [],
   "source": [
    "import pandas as pd\n"
   ]
  },
  {
   "cell_type": "code",
   "execution_count": 74,
   "id": "d22647b4",
   "metadata": {},
   "outputs": [
    {
     "name": "stdout",
     "output_type": "stream",
     "text": [
      "HTTP error: 404\n"
     ]
    }
   ],
   "source": [
    "import urllib.request\n",
    "import io\n",
    "\n",
    "url = 'https://raw.githubusercontent.com/justmarkham/DAT8/master/data/euro2012.csv'\n",
    "\n",
    "try:\n",
    "    response = urllib.request.urlopen(url)\n",
    "except urllib.error.HTTPError as e:\n",
    "    print('HTTP error:', e.code)\n",
    "except urllib.error.URLError as e:\n",
    "    print('URL error:', e.reason)\n",
    "else:\n",
    "    euro12 = pd.read_csv(io.StringIO(response.read().decode('utf-8')))\n",
    "\n",
    "\n"
   ]
  },
  {
   "cell_type": "markdown",
   "id": "c9778a46",
   "metadata": {},
   "source": [
    "# Question 3"
   ]
  },
  {
   "cell_type": "markdown",
   "id": "7a277756",
   "metadata": {},
   "source": [
    "Step 1: Import the necessary libraries"
   ]
  },
  {
   "cell_type": "code",
   "execution_count": 21,
   "id": "c67a22e0",
   "metadata": {},
   "outputs": [],
   "source": [
    "import pandas as pd\n",
    "import numpy as np\n"
   ]
  },
  {
   "cell_type": "markdown",
   "id": "1862e888",
   "metadata": {},
   "source": [
    "Step 2: Create 3 different Series, each of length 100"
   ]
  },
  {
   "cell_type": "code",
   "execution_count": 22,
   "id": "d2fdd8fa",
   "metadata": {},
   "outputs": [],
   "source": [
    "bedrs = pd.Series(np.random.randint(1, 5, size=100))\n",
    "bathrs = pd.Series(np.random.randint(1, 4, size=100))\n",
    "price_sqr_meter = pd.Series(np.random.randint(10000, 30001, size=100))\n"
   ]
  },
  {
   "cell_type": "markdown",
   "id": "8584acb1",
   "metadata": {},
   "source": [
    "Step 3: Create a DataFrame by joining the Series by column"
   ]
  },
  {
   "cell_type": "code",
   "execution_count": 23,
   "id": "2056ce78",
   "metadata": {},
   "outputs": [],
   "source": [
    "df = pd.concat([bedrs, bathrs, price_sqr_meter], axis=1)\n"
   ]
  },
  {
   "cell_type": "markdown",
   "id": "e1641f80",
   "metadata": {},
   "source": [
    "Step 4: Change the name of the columns to bedrs, bathrs, price_sqr_meter"
   ]
  },
  {
   "cell_type": "code",
   "execution_count": 24,
   "id": "f92008c4",
   "metadata": {},
   "outputs": [],
   "source": [
    "df.columns = ['bedrs', 'bathrs', 'price_sqr_meter']\n"
   ]
  },
  {
   "cell_type": "markdown",
   "id": "834e08c1",
   "metadata": {},
   "source": [
    "Step 5: Create a one column DataFrame with the values of the 3 Series and assign it to 'bigcolumn'"
   ]
  },
  {
   "cell_type": "code",
   "execution_count": 25,
   "id": "5c95c31c",
   "metadata": {},
   "outputs": [],
   "source": [
    "bigcolumn = pd.concat([bedrs, bathrs, price_sqr_meter], ignore_index=True)\n",
    "bigcolumn_df = pd.DataFrame(bigcolumn)\n"
   ]
  },
  {
   "cell_type": "markdown",
   "id": "dc46d321",
   "metadata": {},
   "source": [
    "Step 6: Check if it is true that the bigcolumn only goes until index 99"
   ]
  },
  {
   "cell_type": "code",
   "execution_count": 28,
   "id": "89cb5864",
   "metadata": {},
   "outputs": [
    {
     "name": "stdout",
     "output_type": "stream",
     "text": [
      "299\n"
     ]
    }
   ],
   "source": [
    "print(bigcolumn_df.index.max())\n"
   ]
  },
  {
   "cell_type": "markdown",
   "id": "7ea1d1df",
   "metadata": {},
   "source": [
    "Step 6: Check if it is true that the bigcolumn only goes until index 99"
   ]
  },
  {
   "cell_type": "code",
   "execution_count": 27,
   "id": "456aa1e9",
   "metadata": {},
   "outputs": [
    {
     "name": "stdout",
     "output_type": "stream",
     "text": [
      "     index  bigcolumn\n",
      "0        0          4\n",
      "1        1          1\n",
      "2        2          1\n",
      "3        3          3\n",
      "4        4          1\n",
      "..     ...        ...\n",
      "295    295      26919\n",
      "296    296      11768\n",
      "297    297      18340\n",
      "298    298      16659\n",
      "299    299      28635\n",
      "\n",
      "[300 rows x 2 columns]\n"
     ]
    }
   ],
   "source": [
    "bigcolumn_df = bigcolumn_df.reset_index(drop=True)\n",
    "bigcolumn_df = bigcolumn_df.rename(columns={0:'bigcolumn'})\n",
    "bigcolumn_df.index.name = 'index'\n",
    "bigcolumn_df = bigcolumn_df.reset_index()\n",
    "print(bigcolumn_df)\n"
   ]
  },
  {
   "cell_type": "markdown",
   "id": "1d8c65d5",
   "metadata": {},
   "source": [
    "# Question 4"
   ]
  },
  {
   "cell_type": "markdown",
   "id": "0337eef1",
   "metadata": {},
   "source": [
    "Step 1. Import the necessary libraries:"
   ]
  },
  {
   "cell_type": "code",
   "execution_count": 29,
   "id": "9611499d",
   "metadata": {},
   "outputs": [],
   "source": [
    "import pandas as pd\n",
    "import numpy as np\n"
   ]
  },
  {
   "cell_type": "markdown",
   "id": "60a7059e",
   "metadata": {},
   "source": [
    "Step 2. Import the dataset from the attached file wind.txt:"
   ]
  },
  {
   "cell_type": "code",
   "execution_count": 30,
   "id": "9bfd920c",
   "metadata": {},
   "outputs": [],
   "source": [
    "url = \"https://raw.githubusercontent.com/guipsamora/pandas_exercises/master/06_Stats/Wind_Stats/wind.data\"\n",
    "data = pd.read_table(url, sep='\\s+', parse_dates=[[0,1,2]])\n"
   ]
  },
  {
   "cell_type": "markdown",
   "id": "9fdd59ca",
   "metadata": {},
   "source": [
    "Step 3. Assign it to a variable called data and replace the first 3 columns by a proper datetime index:"
   ]
  },
  {
   "cell_type": "code",
   "execution_count": 31,
   "id": "d52b0bcd",
   "metadata": {},
   "outputs": [],
   "source": [
    "data = pd.read_table(url, sep='\\s+', parse_dates=[[0,1,2]])\n",
    "data.rename(columns={'Yr_Mo_Dy': 'date'}, inplace=True)\n"
   ]
  },
  {
   "cell_type": "markdown",
   "id": "582b4c5d",
   "metadata": {},
   "source": [
    "Step 4. Year 2061? Do we really have data from this year? Create a function to fix it and apply it:"
   ]
  },
  {
   "cell_type": "code",
   "execution_count": 32,
   "id": "2721ee3b",
   "metadata": {},
   "outputs": [],
   "source": [
    "def fix_year(x):\n",
    "    year = x.year - 100 if x.year > 1989 else x.year\n",
    "    return pd.to_datetime(year*10000 + x.month*100 + x.day, format='%Y%m%d')\n",
    "\n",
    "data['date'] = data['date'].apply(fix_year)\n"
   ]
  },
  {
   "cell_type": "markdown",
   "id": "723d5df6",
   "metadata": {},
   "source": [
    "Step 5. Set the right dates as the index. Pay attention at the data type, it should be datetime64[ns]:"
   ]
  },
  {
   "cell_type": "code",
   "execution_count": 33,
   "id": "db95748c",
   "metadata": {},
   "outputs": [],
   "source": [
    "data.set_index('date', inplace=True)\n"
   ]
  },
  {
   "cell_type": "markdown",
   "id": "361d9203",
   "metadata": {},
   "source": [
    "Step 6. Compute how many values are missing for each location over the entire record. They should be ignored in all calculations below:"
   ]
  },
  {
   "cell_type": "code",
   "execution_count": 34,
   "id": "38dca47e",
   "metadata": {},
   "outputs": [],
   "source": [
    "missing_values = data.isnull().sum()\n"
   ]
  },
  {
   "cell_type": "markdown",
   "id": "ac5f96c0",
   "metadata": {},
   "source": [
    "Step 7. Compute how many non-missing values there are in total:"
   ]
  },
  {
   "cell_type": "code",
   "execution_count": 35,
   "id": "2094916a",
   "metadata": {},
   "outputs": [],
   "source": [
    "non_missing_values = data.notnull().sum().sum()\n"
   ]
  },
  {
   "cell_type": "markdown",
   "id": "76684532",
   "metadata": {},
   "source": [
    "Step 8. Calculate the mean windspeeds of the windspeeds over all the locations and all the times. A single number for the entire dataset:"
   ]
  },
  {
   "cell_type": "code",
   "execution_count": 36,
   "id": "60619b5a",
   "metadata": {},
   "outputs": [],
   "source": [
    "mean_windspeed = data.mean().mean()\n"
   ]
  },
  {
   "cell_type": "markdown",
   "id": "afafe5b3",
   "metadata": {},
   "source": [
    "Step 9. Create a DataFrame called loc_stats and calculate the min, max, and mean windspeeds and standard deviations of the windspeeds at each location over all the days. A different set of numbers for each location:\n",
    "\n",
    "\n",
    "\n",
    "\n",
    "\n",
    "\n"
   ]
  },
  {
   "cell_type": "code",
   "execution_count": 37,
   "id": "e0ca0098",
   "metadata": {},
   "outputs": [],
   "source": [
    "loc_stats = pd.DataFrame({'min': data.min(), 'max': data.max(), 'mean': data.mean(), 'std': data.std()})\n"
   ]
  },
  {
   "cell_type": "markdown",
   "id": "f9626cfa",
   "metadata": {},
   "source": [
    "Step 10. Create a DataFrame called day_stats and calculate the min, max, and mean windspeeds and standard deviations of the windspeeds across all the locations at each day. A different set of numbers for each day:"
   ]
  },
  {
   "cell_type": "code",
   "execution_count": 38,
   "id": "d70dd169",
   "metadata": {},
   "outputs": [],
   "source": [
    "day_stats = pd.DataFrame({'min': data.min(axis=1), 'max': data.max(axis=1), 'mean': data.mean(axis=1), 'std': data.std(axis=1)})\n"
   ]
  },
  {
   "cell_type": "markdown",
   "id": "7fcfae0c",
   "metadata": {},
   "source": [
    "# Question 5"
   ]
  },
  {
   "cell_type": "code",
   "execution_count": 40,
   "id": "d1fd6dfd",
   "metadata": {},
   "outputs": [],
   "source": [
    "# Step 1\n",
    "import pandas as pd\n",
    "\n"
   ]
  },
  {
   "cell_type": "code",
   "execution_count": 41,
   "id": "f77320fb",
   "metadata": {},
   "outputs": [],
   "source": [
    "# Step 2 and 3\n",
    "chipo = pd.read_csv(\"https://raw.githubusercontent.com/justmarkham/DAT8/master/data/chipotle.tsv\", delimiter=\"\\t\")\n",
    "\n"
   ]
  },
  {
   "cell_type": "code",
   "execution_count": 42,
   "id": "36940f53",
   "metadata": {},
   "outputs": [
    {
     "name": "stdout",
     "output_type": "stream",
     "text": [
      "   order_id  quantity                              item_name  \\\n",
      "0         1         1           Chips and Fresh Tomato Salsa   \n",
      "1         1         1                                   Izze   \n",
      "2         1         1                       Nantucket Nectar   \n",
      "3         1         1  Chips and Tomatillo-Green Chili Salsa   \n",
      "4         2         2                           Chicken Bowl   \n",
      "5         3         1                           Chicken Bowl   \n",
      "6         3         1                          Side of Chips   \n",
      "7         4         1                          Steak Burrito   \n",
      "8         4         1                       Steak Soft Tacos   \n",
      "9         5         1                          Steak Burrito   \n",
      "\n",
      "                                  choice_description item_price  \n",
      "0                                                NaN     $2.39   \n",
      "1                                       [Clementine]     $3.39   \n",
      "2                                            [Apple]     $3.39   \n",
      "3                                                NaN     $2.39   \n",
      "4  [Tomatillo-Red Chili Salsa (Hot), [Black Beans...    $16.98   \n",
      "5  [Fresh Tomato Salsa (Mild), [Rice, Cheese, Sou...    $10.98   \n",
      "6                                                NaN     $1.69   \n",
      "7  [Tomatillo Red Chili Salsa, [Fajita Vegetables...    $11.75   \n",
      "8  [Tomatillo Green Chili Salsa, [Pinto Beans, Ch...     $9.25   \n",
      "9  [Fresh Tomato Salsa, [Rice, Black Beans, Pinto...     $9.25   \n"
     ]
    }
   ],
   "source": [
    "# Step 4\n",
    "print(chipo.head(10))\n",
    "\n"
   ]
  },
  {
   "cell_type": "code",
   "execution_count": 43,
   "id": "08da2fed",
   "metadata": {},
   "outputs": [
    {
     "name": "stdout",
     "output_type": "stream",
     "text": [
      "Number of observations: 4622\n"
     ]
    }
   ],
   "source": [
    "# Step 5\n",
    "print(\"Number of observations:\", len(chipo))\n",
    "\n"
   ]
  },
  {
   "cell_type": "code",
   "execution_count": 44,
   "id": "aab12bf5",
   "metadata": {},
   "outputs": [
    {
     "name": "stdout",
     "output_type": "stream",
     "text": [
      "Number of columns: 5\n"
     ]
    }
   ],
   "source": [
    "# Step 6\n",
    "print(\"Number of columns:\", len(chipo.columns))\n",
    "\n"
   ]
  },
  {
   "cell_type": "code",
   "execution_count": 45,
   "id": "ade6f9fe",
   "metadata": {},
   "outputs": [
    {
     "name": "stdout",
     "output_type": "stream",
     "text": [
      "Column names: ['order_id', 'quantity', 'item_name', 'choice_description', 'item_price']\n"
     ]
    }
   ],
   "source": [
    "# Step 7\n",
    "print(\"Column names:\", chipo.columns.tolist())\n",
    "\n"
   ]
  },
  {
   "cell_type": "code",
   "execution_count": 46,
   "id": "0602c745",
   "metadata": {},
   "outputs": [
    {
     "name": "stdout",
     "output_type": "stream",
     "text": [
      "Index type: int64\n"
     ]
    }
   ],
   "source": [
    "# Step 8\n",
    "print(\"Index type:\", chipo.index.dtype)\n",
    "\n"
   ]
  },
  {
   "cell_type": "code",
   "execution_count": 47,
   "id": "48e41984",
   "metadata": {},
   "outputs": [
    {
     "name": "stdout",
     "output_type": "stream",
     "text": [
      "Most-ordered item: Chicken Bowl\n"
     ]
    }
   ],
   "source": [
    "# Step 9\n",
    "most_ordered_item = chipo.groupby(\"item_name\").sum().sort_values(\"quantity\", ascending=False).index[0]\n",
    "print(\"Most-ordered item:\", most_ordered_item)\n",
    "\n"
   ]
  },
  {
   "cell_type": "code",
   "execution_count": 48,
   "id": "bc52c68b",
   "metadata": {},
   "outputs": [
    {
     "name": "stdout",
     "output_type": "stream",
     "text": [
      "Quantity of Chicken Bowl ordered: 761\n"
     ]
    }
   ],
   "source": [
    "# Step 10\n",
    "quantity = chipo.groupby(\"item_name\").sum().sort_values(\"quantity\", ascending=False).iloc[0][\"quantity\"]\n",
    "print(f\"Quantity of {most_ordered_item} ordered:\", quantity)\n",
    "\n"
   ]
  },
  {
   "cell_type": "code",
   "execution_count": 49,
   "id": "d1a9d322",
   "metadata": {},
   "outputs": [
    {
     "name": "stdout",
     "output_type": "stream",
     "text": [
      "Most-ordered item in choice_description: [Diet Coke]\n"
     ]
    }
   ],
   "source": [
    "# Step 11\n",
    "most_ordered_choice = chipo.groupby(\"choice_description\").sum().sort_values(\"quantity\", ascending=False).index[0]\n",
    "print(\"Most-ordered item in choice_description:\", most_ordered_choice)\n",
    "\n"
   ]
  },
  {
   "cell_type": "code",
   "execution_count": 50,
   "id": "52a0af36",
   "metadata": {},
   "outputs": [
    {
     "name": "stdout",
     "output_type": "stream",
     "text": [
      "Total items ordered: 4972\n"
     ]
    }
   ],
   "source": [
    "# Step 12\n",
    "total_items_ordered = chipo[\"quantity\"].sum()\n",
    "print(\"Total items ordered:\", total_items_ordered)\n",
    "\n"
   ]
  },
  {
   "cell_type": "code",
   "execution_count": 51,
   "id": "3b2a3f5f",
   "metadata": {},
   "outputs": [
    {
     "name": "stdout",
     "output_type": "stream",
     "text": [
      "Item price type after conversion: float64\n"
     ]
    }
   ],
   "source": [
    "# Step 13\n",
    "chipo[\"item_price\"] = chipo[\"item_price\"].apply(lambda x: float(x[1:]))\n",
    "print(\"Item price type after conversion:\", chipo[\"item_price\"].dtype)\n",
    "\n"
   ]
  },
  {
   "cell_type": "code",
   "execution_count": 52,
   "id": "542e852b",
   "metadata": {},
   "outputs": [
    {
     "name": "stdout",
     "output_type": "stream",
     "text": [
      "Revenue for the period: 39237.02\n"
     ]
    }
   ],
   "source": [
    "# Step 14\n",
    "revenue = (chipo[\"item_price\"] * chipo[\"quantity\"]).sum()\n",
    "print(\"Revenue for the period:\", revenue)\n",
    "\n"
   ]
  },
  {
   "cell_type": "code",
   "execution_count": 53,
   "id": "4238f266",
   "metadata": {},
   "outputs": [
    {
     "name": "stdout",
     "output_type": "stream",
     "text": [
      "Total orders made: 1834\n"
     ]
    }
   ],
   "source": [
    "# Step 15\n",
    "total_orders = chipo[\"order_id\"].nunique()\n",
    "print(\"Total orders made:\", total_orders)\n",
    "\n"
   ]
  },
  {
   "cell_type": "code",
   "execution_count": 54,
   "id": "4170d540",
   "metadata": {},
   "outputs": [
    {
     "name": "stdout",
     "output_type": "stream",
     "text": [
      "Average revenue per order: 21.39423118865867\n"
     ]
    }
   ],
   "source": [
    "# Step 16\n",
    "avg_revenue_per_order = revenue / total_orders\n",
    "print(\"Average revenue per order:\", avg_revenue_per_order)\n",
    "\n"
   ]
  },
  {
   "cell_type": "code",
   "execution_count": 55,
   "id": "2e35a275",
   "metadata": {},
   "outputs": [
    {
     "name": "stdout",
     "output_type": "stream",
     "text": [
      "Total items sold: 50\n"
     ]
    }
   ],
   "source": [
    "# Step 17\n",
    "total_items_sold = chipo[\"item_name\"].nunique()\n",
    "print(\"Total items sold:\", total_items_sold)\n"
   ]
  },
  {
   "cell_type": "markdown",
   "id": "5eef6dd5",
   "metadata": {},
   "source": [
    "# Question 6"
   ]
  },
  {
   "cell_type": "code",
   "execution_count": 80,
   "id": "0029f449",
   "metadata": {},
   "outputs": [
    {
     "ename": "FileNotFoundError",
     "evalue": "[Errno 2] No such file or directory: 'marriage_divorce_data.csv'",
     "output_type": "error",
     "traceback": [
      "\u001b[1;31m---------------------------------------------------------------------------\u001b[0m",
      "\u001b[1;31mFileNotFoundError\u001b[0m                         Traceback (most recent call last)",
      "\u001b[1;32m~\\AppData\\Local\\Temp\\ipykernel_22248\\1993882859.py\u001b[0m in \u001b[0;36m<module>\u001b[1;34m\u001b[0m\n\u001b[0;32m      3\u001b[0m \u001b[1;33m\u001b[0m\u001b[0m\n\u001b[0;32m      4\u001b[0m \u001b[1;31m# Load the data into a pandas DataFrame\u001b[0m\u001b[1;33m\u001b[0m\u001b[1;33m\u001b[0m\u001b[0m\n\u001b[1;32m----> 5\u001b[1;33m \u001b[0mdf\u001b[0m \u001b[1;33m=\u001b[0m \u001b[0mpd\u001b[0m\u001b[1;33m.\u001b[0m\u001b[0mread_csv\u001b[0m\u001b[1;33m(\u001b[0m\u001b[1;34m'marriage_divorce_data.csv'\u001b[0m\u001b[1;33m)\u001b[0m\u001b[1;33m\u001b[0m\u001b[1;33m\u001b[0m\u001b[0m\n\u001b[0m\u001b[0;32m      6\u001b[0m \u001b[1;33m\u001b[0m\u001b[0m\n\u001b[0;32m      7\u001b[0m \u001b[1;31m# Create the line plot\u001b[0m\u001b[1;33m\u001b[0m\u001b[1;33m\u001b[0m\u001b[0m\n",
      "\u001b[1;32m~\\anaconda3\\lib\\site-packages\\pandas\\util\\_decorators.py\u001b[0m in \u001b[0;36mwrapper\u001b[1;34m(*args, **kwargs)\u001b[0m\n\u001b[0;32m    309\u001b[0m                     \u001b[0mstacklevel\u001b[0m\u001b[1;33m=\u001b[0m\u001b[0mstacklevel\u001b[0m\u001b[1;33m,\u001b[0m\u001b[1;33m\u001b[0m\u001b[1;33m\u001b[0m\u001b[0m\n\u001b[0;32m    310\u001b[0m                 )\n\u001b[1;32m--> 311\u001b[1;33m             \u001b[1;32mreturn\u001b[0m \u001b[0mfunc\u001b[0m\u001b[1;33m(\u001b[0m\u001b[1;33m*\u001b[0m\u001b[0margs\u001b[0m\u001b[1;33m,\u001b[0m \u001b[1;33m**\u001b[0m\u001b[0mkwargs\u001b[0m\u001b[1;33m)\u001b[0m\u001b[1;33m\u001b[0m\u001b[1;33m\u001b[0m\u001b[0m\n\u001b[0m\u001b[0;32m    312\u001b[0m \u001b[1;33m\u001b[0m\u001b[0m\n\u001b[0;32m    313\u001b[0m         \u001b[1;32mreturn\u001b[0m \u001b[0mwrapper\u001b[0m\u001b[1;33m\u001b[0m\u001b[1;33m\u001b[0m\u001b[0m\n",
      "\u001b[1;32m~\\anaconda3\\lib\\site-packages\\pandas\\io\\parsers\\readers.py\u001b[0m in \u001b[0;36mread_csv\u001b[1;34m(filepath_or_buffer, sep, delimiter, header, names, index_col, usecols, squeeze, prefix, mangle_dupe_cols, dtype, engine, converters, true_values, false_values, skipinitialspace, skiprows, skipfooter, nrows, na_values, keep_default_na, na_filter, verbose, skip_blank_lines, parse_dates, infer_datetime_format, keep_date_col, date_parser, dayfirst, cache_dates, iterator, chunksize, compression, thousands, decimal, lineterminator, quotechar, quoting, doublequote, escapechar, comment, encoding, encoding_errors, dialect, error_bad_lines, warn_bad_lines, on_bad_lines, delim_whitespace, low_memory, memory_map, float_precision, storage_options)\u001b[0m\n\u001b[0;32m    676\u001b[0m     \u001b[0mkwds\u001b[0m\u001b[1;33m.\u001b[0m\u001b[0mupdate\u001b[0m\u001b[1;33m(\u001b[0m\u001b[0mkwds_defaults\u001b[0m\u001b[1;33m)\u001b[0m\u001b[1;33m\u001b[0m\u001b[1;33m\u001b[0m\u001b[0m\n\u001b[0;32m    677\u001b[0m \u001b[1;33m\u001b[0m\u001b[0m\n\u001b[1;32m--> 678\u001b[1;33m     \u001b[1;32mreturn\u001b[0m \u001b[0m_read\u001b[0m\u001b[1;33m(\u001b[0m\u001b[0mfilepath_or_buffer\u001b[0m\u001b[1;33m,\u001b[0m \u001b[0mkwds\u001b[0m\u001b[1;33m)\u001b[0m\u001b[1;33m\u001b[0m\u001b[1;33m\u001b[0m\u001b[0m\n\u001b[0m\u001b[0;32m    679\u001b[0m \u001b[1;33m\u001b[0m\u001b[0m\n\u001b[0;32m    680\u001b[0m \u001b[1;33m\u001b[0m\u001b[0m\n",
      "\u001b[1;32m~\\anaconda3\\lib\\site-packages\\pandas\\io\\parsers\\readers.py\u001b[0m in \u001b[0;36m_read\u001b[1;34m(filepath_or_buffer, kwds)\u001b[0m\n\u001b[0;32m    573\u001b[0m \u001b[1;33m\u001b[0m\u001b[0m\n\u001b[0;32m    574\u001b[0m     \u001b[1;31m# Create the parser.\u001b[0m\u001b[1;33m\u001b[0m\u001b[1;33m\u001b[0m\u001b[0m\n\u001b[1;32m--> 575\u001b[1;33m     \u001b[0mparser\u001b[0m \u001b[1;33m=\u001b[0m \u001b[0mTextFileReader\u001b[0m\u001b[1;33m(\u001b[0m\u001b[0mfilepath_or_buffer\u001b[0m\u001b[1;33m,\u001b[0m \u001b[1;33m**\u001b[0m\u001b[0mkwds\u001b[0m\u001b[1;33m)\u001b[0m\u001b[1;33m\u001b[0m\u001b[1;33m\u001b[0m\u001b[0m\n\u001b[0m\u001b[0;32m    576\u001b[0m \u001b[1;33m\u001b[0m\u001b[0m\n\u001b[0;32m    577\u001b[0m     \u001b[1;32mif\u001b[0m \u001b[0mchunksize\u001b[0m \u001b[1;32mor\u001b[0m \u001b[0miterator\u001b[0m\u001b[1;33m:\u001b[0m\u001b[1;33m\u001b[0m\u001b[1;33m\u001b[0m\u001b[0m\n",
      "\u001b[1;32m~\\anaconda3\\lib\\site-packages\\pandas\\io\\parsers\\readers.py\u001b[0m in \u001b[0;36m__init__\u001b[1;34m(self, f, engine, **kwds)\u001b[0m\n\u001b[0;32m    930\u001b[0m \u001b[1;33m\u001b[0m\u001b[0m\n\u001b[0;32m    931\u001b[0m         \u001b[0mself\u001b[0m\u001b[1;33m.\u001b[0m\u001b[0mhandles\u001b[0m\u001b[1;33m:\u001b[0m \u001b[0mIOHandles\u001b[0m \u001b[1;33m|\u001b[0m \u001b[1;32mNone\u001b[0m \u001b[1;33m=\u001b[0m \u001b[1;32mNone\u001b[0m\u001b[1;33m\u001b[0m\u001b[1;33m\u001b[0m\u001b[0m\n\u001b[1;32m--> 932\u001b[1;33m         \u001b[0mself\u001b[0m\u001b[1;33m.\u001b[0m\u001b[0m_engine\u001b[0m \u001b[1;33m=\u001b[0m \u001b[0mself\u001b[0m\u001b[1;33m.\u001b[0m\u001b[0m_make_engine\u001b[0m\u001b[1;33m(\u001b[0m\u001b[0mf\u001b[0m\u001b[1;33m,\u001b[0m \u001b[0mself\u001b[0m\u001b[1;33m.\u001b[0m\u001b[0mengine\u001b[0m\u001b[1;33m)\u001b[0m\u001b[1;33m\u001b[0m\u001b[1;33m\u001b[0m\u001b[0m\n\u001b[0m\u001b[0;32m    933\u001b[0m \u001b[1;33m\u001b[0m\u001b[0m\n\u001b[0;32m    934\u001b[0m     \u001b[1;32mdef\u001b[0m \u001b[0mclose\u001b[0m\u001b[1;33m(\u001b[0m\u001b[0mself\u001b[0m\u001b[1;33m)\u001b[0m\u001b[1;33m:\u001b[0m\u001b[1;33m\u001b[0m\u001b[1;33m\u001b[0m\u001b[0m\n",
      "\u001b[1;32m~\\anaconda3\\lib\\site-packages\\pandas\\io\\parsers\\readers.py\u001b[0m in \u001b[0;36m_make_engine\u001b[1;34m(self, f, engine)\u001b[0m\n\u001b[0;32m   1214\u001b[0m             \u001b[1;31m# \"Union[str, PathLike[str], ReadCsvBuffer[bytes], ReadCsvBuffer[str]]\"\u001b[0m\u001b[1;33m\u001b[0m\u001b[1;33m\u001b[0m\u001b[0m\n\u001b[0;32m   1215\u001b[0m             \u001b[1;31m# , \"str\", \"bool\", \"Any\", \"Any\", \"Any\", \"Any\", \"Any\"\u001b[0m\u001b[1;33m\u001b[0m\u001b[1;33m\u001b[0m\u001b[0m\n\u001b[1;32m-> 1216\u001b[1;33m             self.handles = get_handle(  # type: ignore[call-overload]\n\u001b[0m\u001b[0;32m   1217\u001b[0m                 \u001b[0mf\u001b[0m\u001b[1;33m,\u001b[0m\u001b[1;33m\u001b[0m\u001b[1;33m\u001b[0m\u001b[0m\n\u001b[0;32m   1218\u001b[0m                 \u001b[0mmode\u001b[0m\u001b[1;33m,\u001b[0m\u001b[1;33m\u001b[0m\u001b[1;33m\u001b[0m\u001b[0m\n",
      "\u001b[1;32m~\\anaconda3\\lib\\site-packages\\pandas\\io\\common.py\u001b[0m in \u001b[0;36mget_handle\u001b[1;34m(path_or_buf, mode, encoding, compression, memory_map, is_text, errors, storage_options)\u001b[0m\n\u001b[0;32m    784\u001b[0m         \u001b[1;32mif\u001b[0m \u001b[0mioargs\u001b[0m\u001b[1;33m.\u001b[0m\u001b[0mencoding\u001b[0m \u001b[1;32mand\u001b[0m \u001b[1;34m\"b\"\u001b[0m \u001b[1;32mnot\u001b[0m \u001b[1;32min\u001b[0m \u001b[0mioargs\u001b[0m\u001b[1;33m.\u001b[0m\u001b[0mmode\u001b[0m\u001b[1;33m:\u001b[0m\u001b[1;33m\u001b[0m\u001b[1;33m\u001b[0m\u001b[0m\n\u001b[0;32m    785\u001b[0m             \u001b[1;31m# Encoding\u001b[0m\u001b[1;33m\u001b[0m\u001b[1;33m\u001b[0m\u001b[0m\n\u001b[1;32m--> 786\u001b[1;33m             handle = open(\n\u001b[0m\u001b[0;32m    787\u001b[0m                 \u001b[0mhandle\u001b[0m\u001b[1;33m,\u001b[0m\u001b[1;33m\u001b[0m\u001b[1;33m\u001b[0m\u001b[0m\n\u001b[0;32m    788\u001b[0m                 \u001b[0mioargs\u001b[0m\u001b[1;33m.\u001b[0m\u001b[0mmode\u001b[0m\u001b[1;33m,\u001b[0m\u001b[1;33m\u001b[0m\u001b[1;33m\u001b[0m\u001b[0m\n",
      "\u001b[1;31mFileNotFoundError\u001b[0m: [Errno 2] No such file or directory: 'marriage_divorce_data.csv'"
     ]
    }
   ],
   "source": [
    "import pandas as pd\n",
    "import matplotlib.pyplot as plt\n",
    "\n",
    "# Load the data into a pandas DataFrame\n",
    "df = pd.read_csv('marriage_divorce_data.csv')\n",
    "\n",
    "# Create the line plot\n",
    "plt.plot(df['Year'], df['Marriages_per_1000'], label='Marriages')\n",
    "plt.plot(df['Year'], df['Divorces_per_1000'], label='Divorces')\n",
    "\n",
    "# Add axis labels and title\n",
    "plt.xlabel('Year')\n",
    "plt.ylabel('Number per 1000')\n",
    "plt.title('Marriages and Divorces per Capita in the U.S., 1867-2014')\n",
    "\n",
    "# Add the legend\n",
    "plt.legend()\n",
    "\n",
    "# Show the plot\n",
    "plt.show()\n"
   ]
  },
  {
   "cell_type": "markdown",
   "id": "188eebd9",
   "metadata": {},
   "source": [
    "# Question 7"
   ]
  },
  {
   "cell_type": "code",
   "execution_count": 59,
   "id": "7e9bdd60",
   "metadata": {},
   "outputs": [
    {
     "data": {
      "image/png": "[encoded data removed]",
      "text/plain": [
       "<Figure size 640x480 with 1 Axes>"
      ]
     },
     "metadata": {},
     "output_type": "display_data"
    }
   ],
   "source": [
    "import matplotlib.pyplot as plt\n",
    "import pandas as pd\n",
    "\n",
    "# create a dataframe with the data\n",
    "data = {'year': [1900, 1950, 2000],\n",
    "        'marriages_per_capita': [0.92, 1.11, 0.84],\n",
    "        'divorces_per_capita': [0.07, 0.38, 0.44]}\n",
    "df = pd.DataFrame(data)\n",
    "\n",
    "# create a vertical bar chart\n",
    "plt.bar(df['year']-0.2, df['marriages_per_capita'], width=0.4, label='Marriages per capita')\n",
    "plt.bar(df['year']+0.2, df['divorces_per_capita'], width=0.4, label='Divorces per capita')\n",
    "\n",
    "# add labels and title\n",
    "plt.xlabel('Year')\n",
    "plt.ylabel('Per capita')\n",
    "plt.title('Marriages and Divorces per capita in the U.S. (1900, 1950, 2000)')\n",
    "plt.xticks(df['year'], df['year'])\n",
    "\n",
    "# add legend\n",
    "plt.legend()\n",
    "\n",
    "# show the plot\n",
    "plt.show()\n"
   ]
  },
  {
   "cell_type": "markdown",
   "id": "d97917a4",
   "metadata": {},
   "source": [
    "# Question 8"
   ]
  },
  {
   "cell_type": "code",
   "execution_count": 78,
   "id": "0a35b066",
   "metadata": {},
   "outputs": [
    {
     "data": {
      "image/png": "[encoded data removed]",
      "text/plain": [
       "<Figure size 1000x600 with 1 Axes>"
      ]
     },
     "metadata": {},
     "output_type": "display_data"
    }
   ],
   "source": [
    "import matplotlib.pyplot as plt\n",
    "\n",
    "# Define the data\n",
    "actors = ['Actor 1', 'Actor 2', 'Actor 3', 'Actor 4', 'Actor 5', 'Actor 6', 'Actor 7', 'Actor 8', 'Actor 9', 'Actor 10']\n",
    "kill_counts = [369, 295, 267, 239, 226, 207, 204, 201, 194, 193]\n",
    "\n",
    "# Create the horizontal bar chart\n",
    "fig, ax = plt.subplots(figsize=(10, 6))\n",
    "ax.barh(actors, kill_counts)\n",
    "\n",
    "# Set the x-axis label\n",
    "ax.set_xlabel('Kill Count')\n",
    "\n",
    "# Set the y-axis label\n",
    "ax.set_ylabel('Actor')\n",
    "\n",
    "# Set the chart title\n",
    "ax.set_title('Deadliest Actors in Hollywood')\n",
    "\n",
    "# Show the plot\n",
    "plt.show()\n"
   ]
  },
  {
   "cell_type": "markdown",
   "id": "aaf4e569",
   "metadata": {},
   "source": [
    "# Question 9"
   ]
  },
  {
   "cell_type": "code",
   "execution_count": 60,
   "id": "f3510a24",
   "metadata": {},
   "outputs": [
    {
     "data": {
      "image/png": "[encoded data removed]",
      "text/plain": [
       "<Figure size 640x480 with 1 Axes>"
      ]
     },
     "metadata": {},
     "output_type": "display_data"
    }
   ],
   "source": [
    "import matplotlib.pyplot as plt\n",
    "\n",
    "# define data\n",
    "assassinated = 83\n",
    "non_assassinated = 41\n",
    "total = assassinated + non_assassinated\n",
    "\n",
    "# define labels and sizes\n",
    "labels = ['Assassinated', 'Non-assassinated']\n",
    "sizes = [assassinated/total, non_assassinated/total]\n",
    "\n",
    "# define colors\n",
    "colors = ['#ff9999','#66b3ff']\n",
    "\n",
    "# create pie chart\n",
    "fig1, ax1 = plt.subplots()\n",
    "ax1.pie(sizes, colors=colors, labels=labels, autopct='%1.1f%%', startangle=90)\n",
    "ax1.axis('equal')\n",
    "\n",
    "# add title\n",
    "plt.title('Fraction of all Roman Emperors that were assassinated')\n",
    "\n",
    "# show plot\n",
    "plt.show()\n"
   ]
  },
  {
   "cell_type": "markdown",
   "id": "2712b2f2",
   "metadata": {},
   "source": [
    "# Question 10"
   ]
  },
  {
   "cell_type": "code",
   "execution_count": 64,
   "id": "4efaa4fb",
   "metadata": {},
   "outputs": [
    {
     "data": {
      "image/png": "[encoded data removed]",
      "text/plain": [
       "<Figure size 640x480 with 1 Axes>"
      ]
     },
     "metadata": {},
     "output_type": "display_data"
    }
   ],
   "source": [
    "import matplotlib.pyplot as plt\n",
    "import numpy as np\n",
    "\n",
    "# Define the data\n",
    "x = [1, 2, 3, 4, 5]\n",
    "y = [10, 20, 30, 40, 50]\n",
    "year = [2000, 2001, 2002, 2003, 2004]\n",
    "\n",
    "# Create the scatter plot\n",
    "plt.scatter(x, y, c=year, cmap='viridis')\n",
    "plt.xlabel('Total Revenue Earned by Arcades')\n",
    "plt.ylabel('Number of Computer Science PhDs Awarded')\n",
    "plt.show()\n",
    "\n",
    "\n"
   ]
  },
  {
   "cell_type": "code",
   "execution_count": null,
   "id": "2ecdc49e",
   "metadata": {},
   "outputs": [],
   "source": []
  }
 ],
 "metadata": {
  "kernelspec": {
   "display_name": "Python 3 (ipykernel)",
   "language": "python",
   "name": "python3"
  },
  "language_info": {
   "codemirror_mode": {
    "name": "ipython",
    "version": 3
   },
   "file_extension": ".py",
   "mimetype": "text/x-python",
   "name": "python",
   "nbconvert_exporter": "python",
   "pygments_lexer": "ipython3",
   "version": "3.9.13"
  }
 },
 "nbformat": 4,
 "nbformat_minor": 5
}
